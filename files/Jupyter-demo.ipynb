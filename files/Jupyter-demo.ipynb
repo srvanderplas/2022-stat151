{
 "cells": [
  {
   "cell_type": "markdown",
   "id": "27d24478",
   "metadata": {},
   "source": [
    "# Spirals in Jupyter"
   ]
  },
  {
   "cell_type": "markdown",
   "id": "cbdd24d6",
   "metadata": {},
   "source": [
    "In jupyter, you must explicitly designate a cell as markdown - by default, cells are code.\n",
    "\n",
    "First, we'll import numpy for mathematical calculations and matplotlib's pyplot for plotting.\n"
   ]
  },
  {
   "cell_type": "code",
   "execution_count": 2,
   "id": "c5a52d41",
   "metadata": {},
   "outputs": [],
   "source": [
    "import numpy as np\n",
    "import matplotlib.pyplot as plt"
   ]
  },
  {
   "cell_type": "markdown",
   "id": "6d275b8f",
   "metadata": {},
   "source": [
    "\n",
    "## Logarithmic Spiral\n",
    "\n",
    "The logarithmic spiral has a polar equation of $$r = a e^{b\\theta}$$ where $r$ is distance from the origin, $\\theta$ is the angle from the x-axis, and $a$ and $b$ are constants. [Source](https://mathworld.wolfram.com/LogarithmicSpiral.html)\n",
    "\n",
    "We can write the logarithmic spiral equation in Cartesian coordinates as: $$\\begin{array} x &= r \\cos\\theta = a \\cos\\theta e^{b\\theta}\\\\y &= r \\sin\\theta = a \\sin\\theta e^{b\\theta}\\end{array}$$\n",
    "\n",
    "We can implement this spiral in R by first defining it in polar coordinates and then converting the polar coordinates into a sequence of Cartesian points that should be connected by line segments.\n"
   ]
  },
  {
   "cell_type": "code",
   "execution_count": 3,
   "id": "94e6b9a9",
   "metadata": {},
   "outputs": [],
   "source": [
    "# Define the angle of the spiral (polar coords)\n",
    "# go around two full times (2*pi = one revolution)\n",
    "theta = np.arange(0, 4 * np.pi, 0.01)\n",
    "# Define the distance from the origin of the spiral\n",
    "# Needs to have the same length as theta \n",
    "# (get length of theta with theta.size, \n",
    "#  and then divide 5 by that to get the increment)\n",
    "r = np.arange(0, 5, 5/theta.size)\n"
   ]
  },
  {
   "cell_type": "code",
   "execution_count": 4,
   "id": "ebfafeb3",
   "metadata": {},
   "outputs": [],
   "source": [
    "\n",
    "# Now define x and y in cartesian coordinates\n",
    "x = r * np.cos(theta)\n",
    "y = r * np.sin(theta)\n"
   ]
  },
  {
   "cell_type": "markdown",
   "id": "32793f55",
   "metadata": {},
   "source": [
    "I'm less familiar with plotting in python than I am in R, but this code seems to work to generate the same type of plot: "
   ]
  },
  {
   "cell_type": "code",
   "execution_count": 5,
   "id": "a5e1c259",
   "metadata": {},
   "outputs": [
    {
     "data": {
      "image/png": "[encoded data removed]",
      "text/plain": [
       "<Figure size 432x288 with 1 Axes>"
      ]
     },
     "metadata": {
      "needs_background": "light"
     },
     "output_type": "display_data"
    }
   ],
   "source": [
    "\n",
    "# Define the axes\n",
    "fig, ax = plt.subplots()\n",
    "# Plot the line\n",
    "ax.plot(x, y)\n",
    "plt.show()"
   ]
  },
  {
   "cell_type": "markdown",
   "id": "0580a206",
   "metadata": {},
   "source": [
    "The same type of markdown formatting works in jupyter notebooks as well: \n",
    "    \n",
    "With markdown, I can create nice formatting with simple text - \n",
    "\n",
    "# First header\n",
    "\n",
    "## Second header\n",
    "\n",
    "> A really nice quote\n",
    "\n",
    "### Third header\n",
    "\n",
    "```\n",
    "some code from an unknown language\n",
    "```\n",
    "\n",
    "I also like the ability to make \n",
    "\n",
    "1. numbered \n",
    "2. lists\n",
    "\n",
    "but sometimes you want to make a\n",
    "\n",
    "- bulleted \n",
    "- list \n",
    "\n",
    "I have to put a blank line between the text and the list for the formatting to work just right. When in doubt, add a blank line :). \n"
   ]
  },
  {
   "cell_type": "code",
   "execution_count": null,
   "id": "719a49df",
   "metadata": {},
   "outputs": [],
   "source": []
  }
 ],
 "metadata": {
  "kernelspec": {
   "display_name": "Python 3 (ipykernel)",
   "language": "python",
   "name": "python3"
  },
  "language_info": {
   "codemirror_mode": {
    "name": "ipython",
    "version": 3
   },
   "file_extension": ".py",
   "mimetype": "text/x-python",
   "name": "python",
   "nbconvert_exporter": "python",
   "pygments_lexer": "ipython3",
   "version": "3.8.10"
  }
 },
 "nbformat": 4,
 "nbformat_minor": 5
}
